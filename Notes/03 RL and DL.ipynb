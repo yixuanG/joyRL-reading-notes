{
 "cells": [
  {
   "cell_type": "markdown",
   "metadata": {},
   "source": [
    "In reinforcement learning, we use neural networks to approximate the value function. The input of the network is the state, and the output is the value of each action. In different cases, different activation functions are used according to the problem (e.g. for steering wheel with a range from -270 to 270 degrees, the activation function is `tanh`). I.e., **DL is used to predict, and RL is used to control; DL labels, and RL scores.**\n",
    "\n",
    "<div style=\"display:inline-block; background:#FFF; padding:10px; border-radius:8px; width: 640px;\">\n",
    "  <img src=\"https://datawhalechina.github.io/joyrl-book/figs/ch6/dl_rl.png\" alt=\"RL interacts with the environment to get new samples\" style=\"display:block;\">\n",
    "</div>\n",
    "\n",
    "<div style=\"display:inline-block; background:#FFFFFF; padding:10px; border-radius:8px; width: 640px;\">\n",
    "  <img src=\"https://www.researchgate.net/publication/360910430/figure/fig1/AS:11431281080452861@1661307888574/Deep-reinforcement-learning-scheme-A-deep-neural-network-learns-the-policy_W640.jpg\" alt=\"Deep reinforcement learning scheme\" style=\"display:block;\">\n",
    "</div>"
   ]
  }
 ],
 "metadata": {
  "language_info": {
   "name": "python"
  }
 },
 "nbformat": 4,
 "nbformat_minor": 2
}
